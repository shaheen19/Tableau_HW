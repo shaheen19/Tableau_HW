{
 "cells": [
  {
   "cell_type": "code",
   "execution_count": 1,
   "metadata": {},
   "outputs": [],
   "source": [
    "#Import Dependancies\n",
    "from selenium import webdriver\n",
    "import selenium.webdriver.chrome.service as service"
   ]
  },
  {
   "cell_type": "code",
   "execution_count": 2,
   "metadata": {},
   "outputs": [],
   "source": [
    "#Initiazlie browser\n",
    "browser = webdriver.Chrome('chromedriver')\n",
    "browser.implicitly_wait(10) #if browser takes too long to load, it will time out after 10sec"
   ]
  },
  {
   "cell_type": "code",
   "execution_count": 3,
   "metadata": {},
   "outputs": [],
   "source": [
    "#Navigate to website\n",
    "browser.get('https://www.citibikenyc.com/system-data')"
   ]
  },
  {
   "cell_type": "code",
   "execution_count": 4,
   "metadata": {},
   "outputs": [
    {
     "name": "stdout",
     "output_type": "stream",
     "text": [
      "Launch - Sep\n",
      "Oct - Dec\n",
      "Jan - Mar\n",
      "Apr - Jun\n",
      "Jul - Sep\n",
      "Oct - Dec\n",
      "Jan - Mar\n",
      "Apr - Jun\n",
      "Jul - Sep\n",
      "Oct - Dec\n",
      "Jan - Mar\n",
      "Apr - Jun\n",
      "Jul - Sep\n",
      "Oct - Dec\n",
      "Jan - Mar\n",
      "Apr - Jun\n",
      "Jul - Sep\n",
      "Oct - Dec\n",
      "Jan - Mar\n",
      "Apr - Jun\n",
      "Jul - Sep;\n",
      "Oct - Dec\n",
      "© Copyright 2013 - 2018 Motivate International, Inc. All rights reserved.\n",
      "23\n"
     ]
    }
   ],
   "source": [
    "#Grab dataset links\n",
    "reports = browser.find_elements_by_xpath(\"//*[contains(text(), ' - ')]\")\n",
    "\n",
    "#check to see if the reports are correct\n",
    "i=0\n",
    "for report in reports:\n",
    "    print(report.text)\n",
    "    i+=1\n",
    "print(i)"
   ]
  },
  {
   "cell_type": "code",
   "execution_count": 5,
   "metadata": {},
   "outputs": [
    {
     "data": {
      "text/plain": [
       "<selenium.webdriver.remote.webelement.WebElement (session=\"7c8064ab7833232691e7525b8e0e0789\", element=\"0.12160446097350341-23\")>"
      ]
     },
     "execution_count": 5,
     "metadata": {},
     "output_type": "execute_result"
    }
   ],
   "source": [
    "#Pop out the last report grabbed. It is not part of the dataset\n",
    "reports.pop(22)"
   ]
  },
  {
   "cell_type": "code",
   "execution_count": 6,
   "metadata": {},
   "outputs": [
    {
     "name": "stdout",
     "output_type": "stream",
     "text": [
      "['http://cf.datawrapper.de/pe6k4/', 'http://cf.datawrapper.de/0FwJZ/', 'http://cf.datawrapper.de/SGjhr/', 'http://cf.datawrapper.de/dhq4m/', 'http://cf.datawrapper.de/0Si1U/', 'http://cf.datawrapper.de/1hJ2T/', 'http://cf.datawrapper.de/jMx9R/', 'http://datawrapper.dwcdn.net/xEsQz/', 'http://datawrapper.dwcdn.net/rNb8Y/', 'http://datawrapper.dwcdn.net/dVCP4/2/', 'http://datawrapper.dwcdn.net/rreHM/6/', 'http://datawrapper.dwcdn.net/8eZnB/2/', 'http://datawrapper.dwcdn.net/xXpEp/18/', 'https://datawrapper.dwcdn.net/gRmSF/13/', 'https://datawrapper.dwcdn.net/9KAuN/1/', 'https://datawrapper.dwcdn.net/Whjsi/1/', 'https://datawrapper.dwcdn.net/33zqP/19/', 'https://datawrapper.dwcdn.net/K8j0z/5/', 'https://datawrapper.dwcdn.net/7OLX8/1/', 'https://datawrapper.dwcdn.net/tqNn6/5/', 'https://datawrapper.dwcdn.net/FKjZg/7/', 'https://datawrapper.dwcdn.net/pRAtm/2/']\n"
     ]
    }
   ],
   "source": [
    "#Grab links related to the divs that we just captured. Append to list\n",
    "links = []\n",
    "for report in reports:\n",
    "    links.append(report.get_attribute('href'))\n",
    "print(links)"
   ]
  },
  {
   "cell_type": "code",
   "execution_count": 7,
   "metadata": {},
   "outputs": [],
   "source": [
    "#Go through links and download the data\n",
    "for link in links:\n",
    "    browser.get(link)\n",
    "    try:\n",
    "        browser.find_element_by_xpath(\"//*[contains(text(), 'Get the data')]\").click()\n",
    "    except:\n",
    "        browser.find_element_by_class_name(\"dw-data-link\").click()"
   ]
  },
  {
   "cell_type": "code",
   "execution_count": null,
   "metadata": {},
   "outputs": [],
   "source": []
  }
 ],
 "metadata": {
  "kernelspec": {
   "display_name": "Python 3",
   "language": "python",
   "name": "python3"
  },
  "language_info": {
   "codemirror_mode": {
    "name": "ipython",
    "version": 3
   },
   "file_extension": ".py",
   "mimetype": "text/x-python",
   "name": "python",
   "nbconvert_exporter": "python",
   "pygments_lexer": "ipython3",
   "version": "3.6.5"
  }
 },
 "nbformat": 4,
 "nbformat_minor": 2
}
